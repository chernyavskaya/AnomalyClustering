{
 "cells": [
  {
   "cell_type": "code",
   "execution_count": 591,
   "id": "34fb58b6",
   "metadata": {},
   "outputs": [],
   "source": [
    "import os\n",
    "import torch\n",
    "import torch.nn as nn\n",
    "from torch.autograd import Variable\n",
    "import torchvision.datasets as dset\n",
    "import torchvision.transforms as transforms\n",
    "import torch.nn.functional as F\n",
    "import torch.optim as optim\n",
    "from sklearn.cluster import MiniBatchKMeans, KMeans\n",
    "import setGPU\n",
    "import numpy as np\n",
    "import h5py\n",
    "\n",
    "from sklearn.metrics import silhouette_score,davies_bouldin_score,calinski_harabasz_score\n",
    "import sklearn\n",
    "from sklearn.metrics import confusion_matrix\n",
    "import seaborn as sns\n",
    "import matplotlib.pyplot as plt\n",
    "\n",
    "import setGPU\n",
    "\n",
    "import sys,os\n",
    "#sys.path.append(os.path.abspath(os.path.join('../ADgvae/')))\n",
    "from pathlib import Path\n",
    "from importlib import reload  \n",
    "import os.path as osp\n",
    "sys.path.append(os.path.abspath(os.path.join('IDEC/')))\n",
    "import idec_graph as idec_mod\n",
    "reload(idec_mod)\n",
    "from idec_graph import IDEC\n",
    "import IDEC.utils as utils_idec\n",
    "reload(utils_idec)\n",
    "from scipy.sparse import csr_matrix\n",
    "\n",
    "from torch_geometric.utils import from_scipy_sparse_matrix\n",
    "from torch_geometric.data import Data, Batch, DataLoader\n",
    "from IDEC.utils import GraphDataset, cluster_acc\n",
    "from torch_scatter import scatter_mean,scatter_max\n",
    "\n",
    "from sklearn.manifold import TSNE\n",
    "\n",
    "import matplotlib.colors as colors"
   ]
  },
  {
   "cell_type": "code",
   "execution_count": 87,
   "id": "208d98a8",
   "metadata": {},
   "outputs": [
    {
     "name": "stdout",
     "output_type": "stream",
     "text": [
      "Preparing the dataset of 62305 events\n",
      "Dataset of 62305 events prepared\n"
     ]
    }
   ],
   "source": [
    "DATA_PATH = '/eos/user/n/nchernya/MLHEP/AnomalyDetection/AnomalyClustering/inputs/'\n",
    "TRAIN_NAME = 'background_chan3_passed_ae_l1.h5'\n",
    "filename_bg = DATA_PATH + TRAIN_NAME \n",
    "in_file = h5py.File(filename_bg, 'r') \n",
    "file_dataset = np.array(in_file['dataset'])\n",
    "file_dataset[:,:,2] = file_dataset[:,:,2]/1e5\n",
    "file_dataset[:,:,3] = file_dataset[:,:,3]/1e5\n",
    "\n",
    "n_proc = 3\n",
    "(unique, counts) = np.unique(file_dataset[:,:,0], return_counts=True)\n",
    "procs_sorted, counts_sorted = zip(*sorted(zip(unique, counts), key=lambda x: x[1],reverse=True))\n",
    "top_proc_mask = np.isin(file_dataset[:,0,0], procs_sorted[:n_proc]) #choose top 3\n",
    "file_dataset = file_dataset[top_proc_mask]\n",
    "\n",
    "datas = []\n",
    "tot_evt =  file_dataset.shape[0]# int(1e4)\n",
    "print('Preparing the dataset of {} events'.format(tot_evt))\n",
    "n_objs = 17\n",
    "adj = [csr_matrix(np.ones((n_objs,n_objs)) - np.eye(n_objs))]*tot_evt\n",
    "edge_index = [from_scipy_sparse_matrix(a)[0] for a in adj]      \n",
    "x = [torch.tensor(file_dataset[i_evt,:,1:], dtype=torch.float) for i_evt in range(tot_evt)]\n",
    "y = [torch.tensor(int(file_dataset[i_evt,0,0]), dtype=torch.int) for i_evt in range(tot_evt)]\n",
    "datas = [Data(x=x_jet, edge_index=edge_index_jet,y=torch.unsqueeze(u_jet, 0)) \n",
    "    for x_jet,edge_index_jet,u_jet in zip(x,edge_index,y)]\n",
    "print('Dataset of {} events prepared'.format(tot_evt))\n",
    "dataset  = GraphDataset(datas)\n",
    "device = torch.device('cuda:0' if torch.cuda.is_available() else 'cpu')\n"
   ]
  },
  {
   "cell_type": "code",
   "execution_count": 592,
   "id": "72513e61",
   "metadata": {},
   "outputs": [
    {
     "name": "stderr",
     "output_type": "stream",
     "text": [
      "/afs/cern.ch/user/n/nchernya/.local/lib/python3.8/site-packages/torch_geometric/deprecation.py:13: UserWarning: 'data.DataLoader' is deprecated, use 'loader.DataLoader' instead\n",
      "  warnings.warn(out)\n"
     ]
    },
    {
     "name": "stdout",
     "output_type": "stream",
     "text": [
      "Acc 0.5450 , nmi 0.2988 , ari 0.2918\n"
     ]
    }
   ],
   "source": [
    "from sklearn.metrics import adjusted_rand_score as ari_score\n",
    "from sklearn.metrics.cluster import normalized_mutual_info_score as nmi_score\n",
    "\n",
    "device = torch.device('cuda:0' if torch.cuda.is_available() else 'cpu')\n",
    "\n",
    "\n",
    "num_clusters_dict = {}\n",
    "\n",
    "for num_cluster in [3]:  \n",
    "    model = IDEC(input_shape = [17,5], \n",
    "                hidden_channels = [10, 12, 16, 20, 25, 30],\n",
    "                latent_dim =5,\n",
    "                n_clusters=num_cluster,\n",
    "                alpha=1,\n",
    "                pretrain_path='data_graph/graph_ae_pretrain.pkl'\n",
    "    ).to(device)\n",
    "\n",
    "    model.load_state_dict(torch.load(\n",
    "\"/eos/user/n/nchernya/MLHEP/AnomalyDetection/AnomalyClustering/IDEC/data_graph/graph_ae_pretrain_top_3_xentrop_fullmodel_num_clust_{}.pkl\".format(num_cluster)))\n",
    "\n",
    "    batch_size=256\n",
    "    test_loader = DataLoader(\n",
    "        dataset, batch_size=batch_size, shuffle=False, drop_last=True)\n",
    "    \n",
    "    latent_pred = []\n",
    "    true_labels = []\n",
    "    model.eval() \n",
    "    \n",
    "    pred_features = np.array([model.forward(d.x.to(device),d.edge_index.to(device),d.batch.to(device))[0].data.cpu().numpy() for i,d in enumerate(test_loader)]) \n",
    "    emb_input = []  \n",
    "    #for i,d in enumerate(test_loader):\n",
    "    #    model.forward(d.x.to(device),d.edge_index.to(device),d.batch.to(device))\n",
    "    #    emb_input.append(model.ae.embedded_input.detach().cpu())\n",
    "    #emb_input = np.array(emb_input)\n",
    "\n",
    "    acc, nmi, ari,reassignment, true_labels, pred_labels, latent_pred  = model.validateOnCompleteTestData(test_loader)\n",
    "\n",
    "    print('Acc {:.4f}'.format(acc),\n",
    "        ', nmi {:.4f}'.format(nmi), ', ari {:.4f}'.format(ari))\n",
    "    predicted_reassigned = np.array([reassignment[item] for item in pred_labels])\n",
    "    \n",
    "    idx = np.random.choice(list(range(latent_pred.shape[0])), 3000)\n",
    "    num_clusters_dict[num_cluster] = {}\n",
    "    num_clusters_dict[num_cluster]['sil_score'] = silhouette_score(latent_pred[idx], predicted_reassigned[idx])\n",
    "    num_clusters_dict[num_cluster]['db_score'] = davies_bouldin_score(latent_pred[idx], predicted_reassigned[idx])\n",
    "    num_clusters_dict[num_cluster]['ch_score'] = calinski_harabasz_score(latent_pred[idx], predicted_reassigned[idx])\n",
    "\n",
    "    "
   ]
  },
  {
   "cell_type": "code",
   "execution_count": null,
   "id": "c875e3a0",
   "metadata": {
    "scrolled": false
   },
   "outputs": [],
   "source": [
    "sys.path.append(os.path.abspath(os.path.join('../')))\n",
    "import vande.util.util_plotting as vande_plot\n",
    "reload(vande_plot)\n",
    "\n",
    "#t = file_dataset[:int(1e3),:,2:]\n",
    "#t = t.reshape((t.shape[0])*t.shape[1],t.shape[2])\n",
    "\n",
    "#t = np.vstack(emb_input)\n",
    "\n",
    "t = file_dataset[:int(1e3),:,1:]\n",
    "t = t.reshape((t.shape[0])*t.shape[1],t.shape[2])\n",
    "\n",
    "pred_features = np.array([model.forward(d.x.to(device),d.edge_index.to(device),d.batch.to(device))[0].data.cpu().numpy() for i,d in enumerate(test_loader)]) \n",
    "pred_features_small = pred_features[:,:,5:]\n",
    "\n",
    "pr_f = np.expand_dims(np.argmax(np.exp(pred_features[:,:,0:5]),axis=-1),axis=-1)\n",
    "pred_features_small = np.concatenate([pr_f,pred_features[:,:,5:]],axis=-1)\n",
    "\n",
    "pred_features_2 = pred_features_small.reshape((pred_features_small.shape[0])*pred_features_small.shape[1],pred_features_small.shape[2])\n",
    "\n",
    "\n",
    "\n",
    "vande_plot.plot_features([t,pred_features_2], 'feature' ,\n",
    "                             'Normalized' , 'Jets Constituents', \n",
    "                             plotname='test',\n",
    "                             legend=['in','out'],\n",
    "                              ylogscale=True)\n",
    "    \n"
   ]
  },
  {
   "cell_type": "code",
   "execution_count": null,
   "id": "3572b0be",
   "metadata": {},
   "outputs": [],
   "source": [
    "X_embedded = TSNE(n_components=2,verbose=1, perplexity=20, n_iter=1000, learning_rate=200\n",
    "                 ).fit_transform(latent_pred[idx])"
   ]
  },
  {
   "cell_type": "code",
   "execution_count": null,
   "id": "f8562b9f",
   "metadata": {},
   "outputs": [],
   "source": [
    "plt.style.use('/eos/user/n/nchernya/MLHEP/AnomalyDetection/ADgvae/utils/adfigstyle.mplstyle')\n",
    "\n",
    "\n",
    "cmap = plt.cm.rainbow #rainbow\n",
    "cmap = (colors.ListedColormap(['#5790fc', '#f89c20', '#e42536', '#964a8b'])\n",
    "        .with_extremes(over='0.25', under='0.75'))\n",
    "#norm = colors.BoundaryNorm(np.arange(1, 26, 1), cmap.N)\n",
    "norm = colors.BoundaryNorm([0,9,12,25], cmap.N)\n",
    "\n",
    "fig = plt.figure(figsize=(10,8))\n",
    "\n",
    "#top_proc_mask = np.isin(true_labels[idx], result1[:5])\n",
    "scatter = plt.scatter(X_embedded[:,0],X_embedded[:,1], c=true_labels[idx],cmap=cmap, norm=norm)\n",
    "plt.title('t-SNE, True labels on clusters')\n",
    "cb = plt.colorbar()\n",
    "# produce a legend with the unique colors from the scatter\n",
    "legend1 = plt.legend(*scatter.legend_elements(),\n",
    "                    loc=\"lower left\", title=\"Classes\")\n",
    "\n",
    "#ax.add_artist(legend1)\n",
    "\n",
    "\n",
    "fig = plt.figure(figsize=(10,8))\n",
    "plt.scatter(X_embedded[:,0],X_embedded[:,1], c=np.array(predicted_reassigned)[idx],cmap=cmap, norm=norm)\n",
    "plt.title('t-SNE, Predicted labels on clusters')\n",
    "cb = plt.colorbar()"
   ]
  },
  {
   "cell_type": "code",
   "execution_count": null,
   "id": "fd29f593",
   "metadata": {},
   "outputs": [],
   "source": []
  },
  {
   "cell_type": "code",
   "execution_count": null,
   "id": "e62fe86e",
   "metadata": {},
   "outputs": [],
   "source": []
  },
  {
   "cell_type": "code",
   "execution_count": 112,
   "id": "add4800a",
   "metadata": {},
   "outputs": [
    {
     "data": {
      "image/png": "[encoded data removed]",
      "text/plain": [
       "<Figure size 720x576 with 2 Axes>"
      ]
     },
     "metadata": {
      "needs_background": "light"
     },
     "output_type": "display_data"
    },
    {
     "data": {
      "image/png": "[encoded data removed]",
      "text/plain": [
       "<Figure size 720x576 with 2 Axes>"
      ]
     },
     "metadata": {
      "needs_background": "light"
     },
     "output_type": "display_data"
    }
   ],
   "source": [
    "import matplotlib.pyplot as plt\n",
    "import numpy as np\n",
    "from sklearn.decomposition import PCA\n",
    "from matplotlib import colors\n",
    "\n",
    "\n",
    "pca = PCA(n_components=2)\n",
    "principalComponents = pca.fit_transform(np.array(latent_pred))\n",
    "\n",
    "pc1 = principalComponents[:,0][idx]\n",
    "pc2 = principalComponents[:,1][idx]\n",
    "\n",
    "\n",
    "\n",
    "\n",
    "fig = plt.figure(figsize=(10,8))\n",
    "plt.scatter(pc1,pc2, c=true_labels[idx],cmap=cmap, norm=norm, marker='o')\n",
    "plt.title('PCA, True labels on clusters')\n",
    "cb = plt.colorbar()\n",
    "\n",
    "\n",
    "\n",
    "fig = plt.figure(figsize=(10,8))\n",
    "plt.scatter(pc1,pc2, c=predicted_reassigned[idx],cmap=cmap, norm=norm)\n",
    "plt.title('PCA, Predicted labels on clusters')\n",
    "cb = plt.colorbar()\n",
    "\n"
   ]
  },
  {
   "cell_type": "code",
   "execution_count": 113,
   "id": "68d5ba00",
   "metadata": {},
   "outputs": [
    {
     "data": {
      "text/plain": [
       "array([ 8, 11, 17])"
      ]
     },
     "execution_count": 113,
     "metadata": {},
     "output_type": "execute_result"
    }
   ],
   "source": [
    "np.unique(predicted_reassigned)"
   ]
  },
  {
   "cell_type": "code",
   "execution_count": 92,
   "id": "60fc0d5e",
   "metadata": {
    "scrolled": false
   },
   "outputs": [
    {
     "data": {
      "text/plain": [
       "34.1036"
      ]
     },
     "execution_count": 92,
     "metadata": {},
     "output_type": "execute_result"
    }
   ],
   "source": [
    "np.max(file_dataset[:,1,3])"
   ]
  },
  {
   "cell_type": "code",
   "execution_count": 43,
   "id": "61612131",
   "metadata": {},
   "outputs": [
    {
     "data": {
      "text/plain": [
       "(2, 4, 5)"
      ]
     },
     "execution_count": 43,
     "metadata": {},
     "output_type": "execute_result"
    }
   ],
   "source": [
    "pred_features[0:2,0:4,:].shape"
   ]
  },
  {
   "cell_type": "code",
   "execution_count": 44,
   "id": "49dcf0b2",
   "metadata": {},
   "outputs": [],
   "source": [
    "test = pred_features[0:2,0:4,:].reshape(2,20)\n"
   ]
  },
  {
   "cell_type": "code",
   "execution_count": 45,
   "id": "f7366e12",
   "metadata": {},
   "outputs": [
    {
     "data": {
      "text/plain": [
       "array([[-2.31592217e-04,  8.45707254e-04, -6.63897023e-04,\n",
       "         6.87253269e-05, -6.48455753e-04, -5.96069382e-04,\n",
       "         1.09805353e-03, -9.42248153e-04,  7.45501311e-05,\n",
       "         1.26274896e-03, -1.30580505e-04,  1.66248623e-03,\n",
       "        -8.63827998e-04,  6.86618441e-05, -1.35476911e-03,\n",
       "         3.87722044e-04,  1.41494675e-03, -9.19922721e-04,\n",
       "         6.81375677e-05, -8.41366185e-04],\n",
       "       [ 1.11468520e-03,  1.07218046e-04, -1.48488022e-03,\n",
       "         1.46042403e-05, -1.03838311e-03,  2.40564113e-05,\n",
       "         2.40233494e-04, -1.34916813e-03,  2.24452378e-05,\n",
       "         2.89878808e-05,  1.73368654e-03, -2.52388883e-04,\n",
       "        -2.27108155e-03,  1.75628120e-05, -1.44816504e-03,\n",
       "         2.36086082e-03,  4.95023560e-04, -2.17854278e-03,\n",
       "         2.23907300e-05, -2.21140683e-03]], dtype=float32)"
      ]
     },
     "execution_count": 45,
     "metadata": {},
     "output_type": "execute_result"
    }
   ],
   "source": [
    "test"
   ]
  },
  {
   "cell_type": "code",
   "execution_count": 46,
   "id": "53218e1f",
   "metadata": {},
   "outputs": [
    {
     "data": {
      "text/plain": [
       "array([[-2.31592217e-04,  8.45707254e-04, -6.63897023e-04,\n",
       "         6.87253269e-05, -6.48455753e-04],\n",
       "       [-5.96069382e-04,  1.09805353e-03, -9.42248153e-04,\n",
       "         7.45501311e-05,  1.26274896e-03],\n",
       "       [-1.30580505e-04,  1.66248623e-03, -8.63827998e-04,\n",
       "         6.86618441e-05, -1.35476911e-03],\n",
       "       [ 3.87722044e-04,  1.41494675e-03, -9.19922721e-04,\n",
       "         6.81375677e-05, -8.41366185e-04],\n",
       "       [ 1.11468520e-03,  1.07218046e-04, -1.48488022e-03,\n",
       "         1.46042403e-05, -1.03838311e-03],\n",
       "       [ 2.40564113e-05,  2.40233494e-04, -1.34916813e-03,\n",
       "         2.24452378e-05,  2.89878808e-05],\n",
       "       [ 1.73368654e-03, -2.52388883e-04, -2.27108155e-03,\n",
       "         1.75628120e-05, -1.44816504e-03],\n",
       "       [ 2.36086082e-03,  4.95023560e-04, -2.17854278e-03,\n",
       "         2.23907300e-05, -2.21140683e-03]], dtype=float32)"
      ]
     },
     "execution_count": 46,
     "metadata": {},
     "output_type": "execute_result"
    }
   ],
   "source": [
    "test.reshape(2*4,5)"
   ]
  },
  {
   "cell_type": "code",
   "execution_count": 52,
   "id": "4c70cc30",
   "metadata": {},
   "outputs": [
    {
     "data": {
      "text/plain": [
       "array([[[-2.31592217e-04,  8.45707254e-04, -6.63897023e-04,\n",
       "          6.87253269e-05, -6.48455753e-04],\n",
       "        [-5.96069382e-04,  1.09805353e-03, -9.42248153e-04,\n",
       "          7.45501311e-05,  1.26274896e-03],\n",
       "        [-1.30580505e-04,  1.66248623e-03, -8.63827998e-04,\n",
       "          6.86618441e-05, -1.35476911e-03],\n",
       "        [ 3.87722044e-04,  1.41494675e-03, -9.19922721e-04,\n",
       "          6.81375677e-05, -8.41366185e-04]],\n",
       "\n",
       "       [[ 1.11468520e-03,  1.07218046e-04, -1.48488022e-03,\n",
       "          1.46042403e-05, -1.03838311e-03],\n",
       "        [ 2.40564113e-05,  2.40233494e-04, -1.34916813e-03,\n",
       "          2.24452378e-05,  2.89878808e-05],\n",
       "        [ 1.73368654e-03, -2.52388883e-04, -2.27108155e-03,\n",
       "          1.75628120e-05, -1.44816504e-03],\n",
       "        [ 2.36086082e-03,  4.95023560e-04, -2.17854278e-03,\n",
       "          2.23907300e-05, -2.21140683e-03]]], dtype=float32)"
      ]
     },
     "execution_count": 52,
     "metadata": {},
     "output_type": "execute_result"
    }
   ],
   "source": [
    "test.reshape(2,4,5)"
   ]
  },
  {
   "cell_type": "code",
   "execution_count": 54,
   "id": "84d844f2",
   "metadata": {},
   "outputs": [
    {
     "data": {
      "text/plain": [
       "array([-5.9606938e-04,  1.0980535e-03, -9.4224815e-04,  7.4550131e-05,\n",
       "        1.2627490e-03], dtype=float32)"
      ]
     },
     "execution_count": 54,
     "metadata": {},
     "output_type": "execute_result"
    }
   ],
   "source": [
    "test.reshape(2,4,5)[0,1,:]"
   ]
  },
  {
   "cell_type": "code",
   "execution_count": 55,
   "id": "1db84a2f",
   "metadata": {},
   "outputs": [
    {
     "ename": "TypeError",
     "evalue": "permute(): argument 'input' (position 1) must be Tensor, not numpy.ndarray",
     "output_type": "error",
     "traceback": [
      "\u001b[0;31m---------------------------------------------------------------------------\u001b[0m",
      "\u001b[0;31mTypeError\u001b[0m                                 Traceback (most recent call last)",
      "\u001b[0;32m/tmp/ipykernel_17684/3091602158.py\u001b[0m in \u001b[0;36m<module>\u001b[0;34m\u001b[0m\n\u001b[0;32m----> 1\u001b[0;31m \u001b[0mtorch\u001b[0m\u001b[0;34m.\u001b[0m\u001b[0mpermute\u001b[0m\u001b[0;34m(\u001b[0m\u001b[0mtest\u001b[0m\u001b[0;34m.\u001b[0m\u001b[0mreshape\u001b[0m\u001b[0;34m(\u001b[0m\u001b[0;36m2\u001b[0m\u001b[0;34m,\u001b[0m\u001b[0;36m4\u001b[0m\u001b[0;34m,\u001b[0m\u001b[0;36m5\u001b[0m\u001b[0;34m)\u001b[0m\u001b[0;34m,\u001b[0m\u001b[0mdim\u001b[0m\u001b[0;34m=\u001b[0m\u001b[0;36m1\u001b[0m\u001b[0;34m)\u001b[0m\u001b[0;34m\u001b[0m\u001b[0;34m\u001b[0m\u001b[0m\n\u001b[0m",
      "\u001b[0;31mTypeError\u001b[0m: permute(): argument 'input' (position 1) must be Tensor, not numpy.ndarray"
     ]
    }
   ],
   "source": [
    "torch.permute(test.reshape(2,4,5),dim=1)"
   ]
  },
  {
   "cell_type": "code",
   "execution_count": 58,
   "id": "e7c2434c",
   "metadata": {},
   "outputs": [
    {
     "name": "stdout",
     "output_type": "stream",
     "text": [
      "tensor([[[ 0.3026, -0.9815, -0.1987,  1.5485,  0.3916],\n",
      "         [ 0.6833,  0.5835,  0.5342,  1.4889, -0.5616],\n",
      "         [ 0.8107,  1.4139,  0.2739,  1.2392,  0.5606],\n",
      "         [ 1.5068, -0.9406,  2.6684, -0.4557,  0.1885]],\n",
      "\n",
      "        [[ 0.5117, -0.0191,  0.7737,  0.2579, -0.2908],\n",
      "         [ 0.5810,  1.0884, -1.8448,  0.2572, -0.2779],\n",
      "         [ 0.2472,  1.9303,  0.8531,  0.8472,  0.1965],\n",
      "         [ 0.1247,  0.2278,  1.9604, -1.1994, -0.5521]]])\n",
      "tensor([[[ 0.6833,  0.5835,  0.5342,  1.4889, -0.5616],\n",
      "         [ 0.8107,  1.4139,  0.2739,  1.2392,  0.5606],\n",
      "         [ 1.5068, -0.9406,  2.6684, -0.4557,  0.1885],\n",
      "         [ 0.8107,  1.4139,  0.2739,  1.2392,  0.5606]],\n",
      "\n",
      "        [[ 0.2472,  1.9303,  0.8531,  0.8472,  0.1965],\n",
      "         [ 0.5117, -0.0191,  0.7737,  0.2579, -0.2908],\n",
      "         [ 0.5117, -0.0191,  0.7737,  0.2579, -0.2908],\n",
      "         [ 0.2472,  1.9303,  0.8531,  0.8472,  0.1965]]])\n"
     ]
    }
   ],
   "source": [
    "x = torch.randn(2, 4, 5)\n",
    "print(x)\n",
    "idx = torch.randint(4, size=(2, 4))\n",
    "permutated_x = x.gather(dim=1, index=idx.unsqueeze(-1).expand(x.shape))\n",
    "print(permutated_x)\n",
    "final_x = permutated_x.reshape(2*4,5)\n",
    "print(final_x)\n",
    "#torch.all(x[0][idx[0]] == permutated_x[0])\n",
    "#torch.all(x[28][idx[28]] == permutated_x[28])"
   ]
  },
  {
   "cell_type": "code",
   "execution_count": 13,
   "id": "a3389652",
   "metadata": {},
   "outputs": [
    {
     "name": "stderr",
     "output_type": "stream",
     "text": [
      "/afs/cern.ch/user/n/nchernya/.local/lib/python3.8/site-packages/torch_geometric/deprecation.py:13: UserWarning: 'data.DataLoader' is deprecated, use 'loader.DataLoader' instead\n",
      "  warnings.warn(out)\n"
     ]
    }
   ],
   "source": [
    "batch_size=256\n",
    "test_loader = DataLoader(\n",
    "        dataset, batch_size=batch_size, shuffle=False, drop_last=True)"
   ]
  },
  {
   "cell_type": "code",
   "execution_count": 80,
   "id": "98146e16",
   "metadata": {},
   "outputs": [],
   "source": [
    "for i,d in enumerate(test_loader):\n",
    "    test_x = d.x[:,0]\n",
    "    break"
   ]
  },
  {
   "cell_type": "code",
   "execution_count": 68,
   "id": "c74dd034",
   "metadata": {},
   "outputs": [],
   "source": [
    "embedding = nn.Embedding(num_embeddings=5, embedding_dim=2)\n"
   ]
  },
  {
   "cell_type": "code",
   "execution_count": 65,
   "id": "03f278b5",
   "metadata": {},
   "outputs": [],
   "source": [
    "vocab_size = 5\n",
    "test_simple = torch.squeeze(test_x)\n",
    "encoded_pid = [F.one_hot(d.type(torch.LongTensor),vocab_size) for d in test_simple]"
   ]
  },
  {
   "cell_type": "code",
   "execution_count": 133,
   "id": "b2bb412f",
   "metadata": {},
   "outputs": [],
   "source": [
    "testing_emb = embedding(test_x.type(torch.LongTensor))"
   ]
  },
  {
   "cell_type": "code",
   "execution_count": 81,
   "id": "8758b65f",
   "metadata": {},
   "outputs": [
    {
     "data": {
      "text/plain": [
       "torch.Size([4352])"
      ]
     },
     "execution_count": 81,
     "metadata": {},
     "output_type": "execute_result"
    }
   ],
   "source": [
    "test_x.shape"
   ]
  },
  {
   "cell_type": "code",
   "execution_count": 88,
   "id": "cf329ccc",
   "metadata": {},
   "outputs": [
    {
     "data": {
      "text/plain": [
       "array([0, 1, 2, 3, 4])"
      ]
     },
     "execution_count": 88,
     "metadata": {},
     "output_type": "execute_result"
    }
   ],
   "source": [
    "np.arange(5)"
   ]
  },
  {
   "cell_type": "code",
   "execution_count": 112,
   "id": "5601aeaa",
   "metadata": {},
   "outputs": [
    {
     "data": {
      "text/plain": [
       "(1057536, 6)"
      ]
     },
     "execution_count": 112,
     "metadata": {},
     "output_type": "execute_result"
    }
   ],
   "source": [
    "np.vstack(emb_input).shape"
   ]
  },
  {
   "cell_type": "code",
   "execution_count": 128,
   "id": "1799f2c8",
   "metadata": {},
   "outputs": [
    {
     "data": {
      "image/png": "[encoded data removed]",
      "text/plain": [
       "<Figure size 432x288 with 1 Axes>"
      ]
     },
     "metadata": {
      "needs_background": "light"
     },
     "output_type": "display_data"
    }
   ],
   "source": [
    "_ = plt.hist(emb_input[0][:,0].numpy(),bins=100)"
   ]
  },
  {
   "cell_type": "code",
   "execution_count": 129,
   "id": "c100da92",
   "metadata": {},
   "outputs": [
    {
     "data": {
      "image/png": "[encoded data removed]",
      "text/plain": [
       "<Figure size 432x288 with 1 Axes>"
      ]
     },
     "metadata": {
      "needs_background": "light"
     },
     "output_type": "display_data"
    }
   ],
   "source": [
    "_ = plt.hist(emb_input[0][:,1].numpy(),bins=100)"
   ]
  },
  {
   "cell_type": "code",
   "execution_count": 135,
   "id": "fa96d1dc",
   "metadata": {},
   "outputs": [
    {
     "data": {
      "image/png": "[encoded data removed]",
      "text/plain": [
       "<Figure size 432x288 with 1 Axes>"
      ]
     },
     "metadata": {
      "needs_background": "light"
     },
     "output_type": "display_data"
    }
   ],
   "source": [
    "_ = plt.hist(testing_emb[:,0].detach().cpu().numpy(),bins=100)"
   ]
  },
  {
   "cell_type": "code",
   "execution_count": 136,
   "id": "241871ed",
   "metadata": {},
   "outputs": [
    {
     "data": {
      "image/png": "[encoded data removed]",
      "text/plain": [
       "<Figure size 432x288 with 1 Axes>"
      ]
     },
     "metadata": {
      "needs_background": "light"
     },
     "output_type": "display_data"
    }
   ],
   "source": [
    "_ = plt.hist(testing_emb[:,1].detach().cpu().numpy(),bins=100)"
   ]
  },
  {
   "cell_type": "code",
   "execution_count": null,
   "id": "0ecca53b",
   "metadata": {},
   "outputs": [],
   "source": []
  },
  {
   "cell_type": "code",
   "execution_count": null,
   "id": "45d9f55a",
   "metadata": {},
   "outputs": [],
   "source": []
  },
  {
   "cell_type": "code",
   "execution_count": null,
   "id": "42128f1b",
   "metadata": {},
   "outputs": [],
   "source": []
  },
  {
   "cell_type": "code",
   "execution_count": 291,
   "id": "8aefb041",
   "metadata": {},
   "outputs": [],
   "source": [
    "from torch_geometric.utils import from_scipy_sparse_matrix, to_dense_batch\n",
    "\n",
    "eps = 1e-12\n",
    "\n",
    "def pairwise_distance(x, y):\n",
    "    if (x.shape[0] != y.shape[0]):\n",
    "        raise ValueError(f\"The batch size of x and y are not equal! x.shape[0] is {x.shape[0]}, whereas y.shape[0] is {y.shape[0]}!\")\n",
    "    if (x.shape[-1] != y.shape[-1]):\n",
    "        raise ValueError(f\"Feature dimension of x and y are not equal! x.shape[-1] is {x.shape[-1]}, whereas y.shape[-1] is {y.shape[-1]}!\")\n",
    "\n",
    "\n",
    "    batch_size = x.shape[0]\n",
    "    num_row = x.shape[1]\n",
    "    num_col = y.shape[1]\n",
    "    vec_dim = x.shape[-1]\n",
    "\n",
    "    x1 = x.repeat(1, 1, num_col).view(batch_size, -1, num_col, vec_dim).to(device)\n",
    "    y1 = y.repeat(1, num_row, 1).view(batch_size, num_row, -1, vec_dim).to(device)\n",
    "\n",
    "    dist = torch.norm(x1 - y1 + eps, dim=-1)\n",
    "\n",
    "    return dist\n",
    "        \n",
    "def chamfer_loss(target, reco, batch):\n",
    "    x = to_dense_batch(target, batch)[0]\n",
    "    y = to_dense_batch(reco, batch)[0] \n",
    "    dist = pairwise_distance(x,y)\n",
    "    # For every output value, find its closest input value; for every input value, find its closest output value.\n",
    "    min_dist_xy = torch.min(dist, dim = -1)  # Get min distance per row - Find the closest input to the output\n",
    "    min_dist_yx = torch.min(dist, dim = -2)  # Get min distance per column - Find the closest output to the input\n",
    "    print(torch.min(dist, dim = -2), torch.min(dist, dim = 1))\n",
    "    \n",
    "    xy_idx = min_dist_xy.indices.clone()\n",
    "    yx_idx = min_dist_yx.indices.clone()  \n",
    "    \n",
    "    \n",
    "    eucl =  torch.sum(min_dist_xy.values + min_dist_yx.values)\n",
    "    batch_size = x.shape[0]*x.shape[1]\n",
    "    return eucl/batch_size, xy_idx, yx_idx\n"
   ]
  },
  {
   "cell_type": "code",
   "execution_count": 292,
   "id": "15555aeb",
   "metadata": {},
   "outputs": [
    {
     "name": "stdout",
     "output_type": "stream",
     "text": [
      "torch.return_types.min(\n",
      "values=tensor([[3.3171e+00, 2.6545e+00, 2.6439e+00,  ..., 2.2361e-12, 2.2361e-12,\n",
      "         2.2361e-12],\n",
      "        [3.6161e+00, 3.0424e+00, 3.3763e+00,  ..., 2.2361e-12, 2.2361e-12,\n",
      "         2.2361e-12],\n",
      "        [2.0370e+00, 3.5430e+00, 1.8517e+00,  ..., 2.2361e-12, 2.2361e-12,\n",
      "         2.2361e-12],\n",
      "        ...,\n",
      "        [5.2191e-01, 6.2721e+00, 9.1121e+00,  ..., 2.2361e-12, 2.2361e-12,\n",
      "         2.2361e-12],\n",
      "        [1.0198e+00, 9.8827e+00, 2.8976e+00,  ..., 2.2361e-12, 2.2361e-12,\n",
      "         2.2361e-12],\n",
      "        [3.4167e+00, 2.8399e+00, 2.4609e+00,  ..., 2.2361e-12, 2.2361e-12,\n",
      "         2.2361e-12]], device='cuda:0'),\n",
      "indices=tensor([[ 0,  1,  1,  ..., 10, 10, 10],\n",
      "        [ 1,  3,  1,  ...,  8,  8,  8],\n",
      "        [ 0,  6,  6,  ...,  7,  7,  7],\n",
      "        ...,\n",
      "        [ 0,  1,  1,  ...,  6,  6,  6],\n",
      "        [ 0,  1,  1,  ...,  7,  7,  7],\n",
      "        [ 3,  3,  3,  ..., 11, 11, 11]], device='cuda:0')) torch.return_types.min(\n",
      "values=tensor([[3.3171e+00, 2.6545e+00, 2.6439e+00,  ..., 2.2361e-12, 2.2361e-12,\n",
      "         2.2361e-12],\n",
      "        [3.6161e+00, 3.0424e+00, 3.3763e+00,  ..., 2.2361e-12, 2.2361e-12,\n",
      "         2.2361e-12],\n",
      "        [2.0370e+00, 3.5430e+00, 1.8517e+00,  ..., 2.2361e-12, 2.2361e-12,\n",
      "         2.2361e-12],\n",
      "        ...,\n",
      "        [5.2191e-01, 6.2721e+00, 9.1121e+00,  ..., 2.2361e-12, 2.2361e-12,\n",
      "         2.2361e-12],\n",
      "        [1.0198e+00, 9.8827e+00, 2.8976e+00,  ..., 2.2361e-12, 2.2361e-12,\n",
      "         2.2361e-12],\n",
      "        [3.4167e+00, 2.8399e+00, 2.4609e+00,  ..., 2.2361e-12, 2.2361e-12,\n",
      "         2.2361e-12]], device='cuda:0'),\n",
      "indices=tensor([[ 0,  1,  1,  ..., 10, 10, 10],\n",
      "        [ 1,  3,  1,  ...,  8,  8,  8],\n",
      "        [ 0,  6,  6,  ...,  7,  7,  7],\n",
      "        ...,\n",
      "        [ 0,  1,  1,  ...,  6,  6,  6],\n",
      "        [ 0,  1,  1,  ...,  7,  7,  7],\n",
      "        [ 3,  3,  3,  ..., 11, 11, 11]], device='cuda:0'))\n"
     ]
    }
   ],
   "source": [
    "for i,d in enumerate(test_loader):\n",
    "    if i==1 : \n",
    "        another_data = d\n",
    "        break\n",
    "for i,d in enumerate(test_loader):\n",
    "    loss,xy_idx, yx_idx = chamfer_loss(d.x, another_data.x,d.batch)\n",
    "    break"
   ]
  },
  {
   "cell_type": "code",
   "execution_count": 299,
   "id": "3e195d0a",
   "metadata": {},
   "outputs": [
    {
     "data": {
      "text/plain": [
       "17.0"
      ]
     },
     "execution_count": 299,
     "metadata": {},
     "output_type": "execute_result"
    }
   ],
   "source": [
    "len(d.batch)/len(torch.unique(d.batch))"
   ]
  },
  {
   "cell_type": "code",
   "execution_count": 210,
   "id": "ae6aa165",
   "metadata": {},
   "outputs": [
    {
     "data": {
      "text/plain": [
       "tensor([[ 0,  1,  1,  ..., 10, 10, 10],\n",
       "        [ 1,  3,  1,  ...,  8,  8,  8],\n",
       "        [ 0,  6,  6,  ...,  7,  7,  7],\n",
       "        ...,\n",
       "        [ 0,  1,  1,  ...,  6,  6,  6],\n",
       "        [ 0,  1,  1,  ...,  7,  7,  7],\n",
       "        [ 3,  3,  3,  ..., 11, 11, 11]], device='cuda:0')"
      ]
     },
     "execution_count": 210,
     "metadata": {},
     "output_type": "execute_result"
    }
   ],
   "source": [
    "yx_idx"
   ]
  },
  {
   "cell_type": "code",
   "execution_count": 325,
   "id": "e767b4ca",
   "metadata": {},
   "outputs": [],
   "source": [
    "num_particles = 17\n",
    "aux_idx = num_particles * torch.arange(batch_size).cuda() #We create auxiliary indices to separate per batch of particles\n",
    "aux_idx = aux_idx.view(batch_size, 1)\n",
    "aux_idx = torch.repeat_interleave(aux_idx, num_particles, axis=-1)\n"
   ]
  },
  {
   "cell_type": "code",
   "execution_count": 326,
   "id": "d1f7f117",
   "metadata": {},
   "outputs": [
    {
     "data": {
      "text/plain": [
       "torch.Size([256, 17])"
      ]
     },
     "execution_count": 326,
     "metadata": {},
     "output_type": "execute_result"
    }
   ],
   "source": [
    "aux_idx.shape"
   ]
  },
  {
   "cell_type": "code",
   "execution_count": 337,
   "id": "1f5b695f",
   "metadata": {},
   "outputs": [],
   "source": [
    "idx1 = xy_idx + aux_idx\n",
    "\n",
    "for i,d in enumerate(test_loader):\n",
    "    idx1 = xy_idx + aux_idx\n",
    "    idx2 = yx_idx + aux_idx\n",
    "    get_x_int = torch.take(d.x[:], idx1.to('cpu').reshape((idx1.shape[0]*idx1.shape[1])).unsqueeze(1))\n",
    "\n",
    "    break"
   ]
  },
  {
   "cell_type": "code",
   "execution_count": 356,
   "id": "26304bdb",
   "metadata": {},
   "outputs": [],
   "source": [
    "a = d.x[idx1.to('cpu').reshape((idx1.shape[0]*idx1.shape[1]))][:,1]"
   ]
  },
  {
   "cell_type": "code",
   "execution_count": 357,
   "id": "cca38567",
   "metadata": {},
   "outputs": [],
   "source": [
    "b = torch.take(d.x[:,1], idx1.to('cpu').reshape((idx1.shape[0]*idx1.shape[1])))"
   ]
  },
  {
   "cell_type": "code",
   "execution_count": 358,
   "id": "f668f8fd",
   "metadata": {},
   "outputs": [
    {
     "data": {
      "text/plain": [
       "tensor(True)"
      ]
     },
     "execution_count": 358,
     "metadata": {},
     "output_type": "execute_result"
    }
   ],
   "source": [
    "(a==b).all()"
   ]
  },
  {
   "cell_type": "code",
   "execution_count": 265,
   "id": "6877111a",
   "metadata": {},
   "outputs": [
    {
     "data": {
      "text/plain": [
       "tensor([ 0,  2,  3,  6,  9,  5,  9,  5,  7,  7, 10, 10, 10, 10, 10, 10, 10, 18,\n",
       "        20, 20, 18, 20, 24, 24, 19, 24, 24, 24, 24, 24, 24, 24, 24, 24])"
      ]
     },
     "execution_count": 265,
     "metadata": {},
     "output_type": "execute_result"
    }
   ],
   "source": [
    "idx1.to('cpu').reshape((idx1.shape[0]*idx1.shape[1]))[0:34]"
   ]
  },
  {
   "cell_type": "code",
   "execution_count": 278,
   "id": "dfe44af9",
   "metadata": {},
   "outputs": [],
   "source": [
    "a = torch.rand(batch_size,num_particles).to('cuda:0')\n"
   ]
  },
  {
   "cell_type": "code",
   "execution_count": 282,
   "id": "77c5c819",
   "metadata": {},
   "outputs": [
    {
     "data": {
      "text/plain": [
       "tensor([[0.0490, 0.7325, 0.7325,  ..., 0.7580, 0.7580, 0.7580],\n",
       "        [0.7325, 0.1729, 0.7325,  ..., 0.6850, 0.6850, 0.6850],\n",
       "        [0.0490, 0.6057, 0.6057,  ..., 0.9736, 0.9736, 0.9736],\n",
       "        ...,\n",
       "        [0.0490, 0.7325, 0.7325,  ..., 0.6057, 0.6057, 0.6057],\n",
       "        [0.0490, 0.7325, 0.7325,  ..., 0.9736, 0.9736, 0.9736],\n",
       "        [0.1729, 0.1729, 0.1729,  ..., 0.6220, 0.6220, 0.6220]],\n",
       "       device='cuda:0')"
      ]
     },
     "execution_count": 282,
     "metadata": {},
     "output_type": "execute_result"
    }
   ],
   "source": [
    "torch.take(a,yx_idx)"
   ]
  },
  {
   "cell_type": "code",
   "execution_count": 280,
   "id": "07537d98",
   "metadata": {},
   "outputs": [
    {
     "data": {
      "text/plain": [
       "tensor([[0.0490, 0.1944, 0.1729,  ..., 0.7580, 0.7580, 0.7580],\n",
       "        [0.8858, 0.9318, 0.9318,  ..., 0.3816, 0.3816, 0.3816],\n",
       "        [0.0666, 0.8167, 0.7163,  ..., 0.0060, 0.0060, 0.0060],\n",
       "        ...,\n",
       "        [0.3685, 0.6592, 0.6463,  ..., 0.0866, 0.0866, 0.0866],\n",
       "        [0.2021, 0.4602, 0.5946,  ..., 0.3703, 0.3703, 0.3703],\n",
       "        [0.1514, 0.7262, 0.6400,  ..., 0.2149, 0.2149, 0.2149]],\n",
       "       device='cuda:0')"
      ]
     },
     "execution_count": 280,
     "metadata": {},
     "output_type": "execute_result"
    }
   ],
   "source": [
    "torch.take(a,idx1)"
   ]
  },
  {
   "cell_type": "code",
   "execution_count": 281,
   "id": "59453d7d",
   "metadata": {},
   "outputs": [
    {
     "data": {
      "text/plain": [
       "tensor([[ 0,  2,  3,  ..., 10, 10, 10],\n",
       "        [ 1,  3,  3,  ...,  7,  7,  7],\n",
       "        [ 0,  2,  1,  ...,  5,  5,  5],\n",
       "        ...,\n",
       "        [ 0,  1,  5,  ...,  6,  6,  6],\n",
       "        [ 0,  2,  5,  ..., 10, 10, 10],\n",
       "        [ 4,  3,  2,  ...,  6,  6,  6]], device='cuda:0')"
      ]
     },
     "execution_count": 281,
     "metadata": {},
     "output_type": "execute_result"
    }
   ],
   "source": [
    "xy_idx"
   ]
  },
  {
   "cell_type": "code",
   "execution_count": 323,
   "id": "0d14f19f",
   "metadata": {},
   "outputs": [],
   "source": [
    "num_particles = 17\n",
    "aux_idx = num_particles * torch.arange(batch_size).cuda() #We create auxiliary indices to separate per batch of particles\n",
    "aux_idx = aux_idx.view(batch_size, 1)\n",
    "aux_idx = torch.repeat_interleave(aux_idx, num_particles, axis=-1).reshape((batch_size*num_particles))\n"
   ]
  },
  {
   "cell_type": "code",
   "execution_count": 359,
   "id": "54f9379e",
   "metadata": {},
   "outputs": [],
   "source": [
    "input1 = torch.randn(100, 128)\n",
    "input2 = torch.randn(100, 128)\n",
    "cos = nn.CosineSimilarity(dim=1, eps=1e-6)\n",
    "output = cos(input1, input2)"
   ]
  },
  {
   "cell_type": "code",
   "execution_count": 361,
   "id": "41feae4c",
   "metadata": {},
   "outputs": [
    {
     "data": {
      "text/plain": [
       "torch.Size([100])"
      ]
     },
     "execution_count": 361,
     "metadata": {},
     "output_type": "execute_result"
    }
   ],
   "source": [
    "output.shape"
   ]
  },
  {
   "cell_type": "code",
   "execution_count": 366,
   "id": "d2939c55",
   "metadata": {},
   "outputs": [
    {
     "name": "stderr",
     "output_type": "stream",
     "text": [
      "/tmp/ipykernel_28831/196399423.py:3: UserWarning: Implicit dimension choice for log_softmax has been deprecated. Change the call to include dim=X as an argument.\n",
      "  output = m(input)\n"
     ]
    }
   ],
   "source": [
    "m = nn.LogSoftmax()\n",
    "input = torch.randn(2, 3)\n",
    "output = m(input)"
   ]
  },
  {
   "cell_type": "code",
   "execution_count": 367,
   "id": "21872cab",
   "metadata": {},
   "outputs": [
    {
     "data": {
      "text/plain": [
       "tensor([[ 0.0095, -0.1251,  0.6795],\n",
       "        [-0.4861,  1.7537,  0.0903]])"
      ]
     },
     "execution_count": 367,
     "metadata": {},
     "output_type": "execute_result"
    }
   ],
   "source": [
    "input"
   ]
  },
  {
   "cell_type": "code",
   "execution_count": 368,
   "id": "8380da3a",
   "metadata": {},
   "outputs": [
    {
     "data": {
      "text/plain": [
       "tensor([[-1.3425, -1.4770, -0.6724],\n",
       "        [-2.4990, -0.2593, -1.9226]])"
      ]
     },
     "execution_count": 368,
     "metadata": {},
     "output_type": "execute_result"
    }
   ],
   "source": [
    "output"
   ]
  },
  {
   "cell_type": "code",
   "execution_count": 372,
   "id": "bff23a2e",
   "metadata": {},
   "outputs": [
    {
     "data": {
      "text/plain": [
       "array([0., 1., 2., 4.], dtype=float32)"
      ]
     },
     "execution_count": 372,
     "metadata": {},
     "output_type": "execute_result"
    }
   ],
   "source": [
    "np.unique(datas[2].x[:,0])"
   ]
  },
  {
   "cell_type": "code",
   "execution_count": 451,
   "id": "7786581c",
   "metadata": {},
   "outputs": [
    {
     "data": {
      "text/plain": [
       "array([[1, 1, 1, ..., 1, 1, 1],\n",
       "       [0, 0, 0, ..., 0, 0, 0],\n",
       "       [0, 0, 0, ..., 1, 1, 1],\n",
       "       ...,\n",
       "       [1, 1, 1, ..., 0, 0, 0],\n",
       "       [1, 1, 1, ..., 1, 1, 1],\n",
       "       [1, 1, 1, ..., 0, 0, 0]])"
      ]
     },
     "execution_count": 451,
     "metadata": {},
     "output_type": "execute_result"
    }
   ],
   "source": [
    "np.argmax(pred_features[:,:,0:5],axis=-1)"
   ]
  },
  {
   "cell_type": "code",
   "execution_count": 497,
   "id": "e760ae2f",
   "metadata": {},
   "outputs": [],
   "source": [
    "res = np.argmax(np.exp(pred_features[0,:,0:5]),axis=-1)"
   ]
  },
  {
   "cell_type": "code",
   "execution_count": 491,
   "id": "b24b2157",
   "metadata": {},
   "outputs": [
    {
     "data": {
      "text/plain": [
       "array([0, 1])"
      ]
     },
     "execution_count": 491,
     "metadata": {},
     "output_type": "execute_result"
    }
   ],
   "source": [
    "np.unique(np.argmax(pred_features[:,:,0:5],axis=-1))"
   ]
  },
  {
   "cell_type": "code",
   "execution_count": 581,
   "id": "c679b672",
   "metadata": {},
   "outputs": [
    {
     "name": "stderr",
     "output_type": "stream",
     "text": [
      "/afs/cern.ch/user/n/nchernya/.local/lib/python3.8/site-packages/torch_geometric/deprecation.py:13: UserWarning: 'data.DataLoader' is deprecated, use 'loader.DataLoader' instead\n",
      "  warnings.warn(out)\n"
     ]
    },
    {
     "name": "stdout",
     "output_type": "stream",
     "text": [
      "torch.Size([34000, 5])\n",
      "torch.Size([34000, 5])\n",
      "torch.Size([34000, 5])\n",
      "torch.Size([34000, 5])\n",
      "torch.Size([34000, 5])\n",
      "torch.Size([34000, 5])\n",
      "torch.Size([34000, 5])\n",
      "torch.Size([34000, 5])\n",
      "torch.Size([34000, 5])\n",
      "torch.Size([34000, 5])\n",
      "torch.Size([34000, 5])\n"
     ]
    }
   ],
   "source": [
    "#pred_features = np.array([model.forward(d.x.to(device),d.edge_index.to(device),d.batch.to(device))[0].data.cpu().numpy() for i,d in enumerate(test_loader)]) \n",
    "\n",
    "\n",
    "test_loader_2 = DataLoader(\n",
    "        dataset, batch_size=2000, shuffle=False, drop_last=True)\n",
    "for i,d in enumerate(test_loader_2):\n",
    "    #out = model.forward(d.x.to(device),d.edge_index.to(device),d.batch.to(device))\n",
    "    #log_soft_max  = nn.LogSoftmax(dim=-1)\n",
    "    #print(d.x)\n",
    "    #x_cat = np.exp(log_soft_max(d.x))\n",
    "    #print(x_cat)\n",
    "    #break\n",
    "    print(d.x.shape)\n",
    "    if i==10 : break\n",
    "\n",
    "    \n",
    "    \n",
    "    "
   ]
  },
  {
   "cell_type": "code",
   "execution_count": 582,
   "id": "cb9b4ad0",
   "metadata": {},
   "outputs": [],
   "source": [
    "unique, counts = np.unique(d.x[:,0], return_counts=True)\n",
    "frequencies = np.asarray((unique, counts)).T"
   ]
  },
  {
   "cell_type": "code",
   "execution_count": 583,
   "id": "b1f87650",
   "metadata": {},
   "outputs": [
    {
     "data": {
      "text/plain": [
       "array([[0.0000e+00, 1.7909e+04],\n",
       "       [1.0000e+00, 1.2707e+04],\n",
       "       [2.0000e+00, 8.4600e+02],\n",
       "       [3.0000e+00, 5.3800e+02],\n",
       "       [4.0000e+00, 2.0000e+03]])"
      ]
     },
     "execution_count": 583,
     "metadata": {},
     "output_type": "execute_result"
    }
   ],
   "source": [
    "frequencies"
   ]
  },
  {
   "cell_type": "code",
   "execution_count": 585,
   "id": "623356db",
   "metadata": {},
   "outputs": [
    {
     "data": {
      "text/plain": [
       "array([ 1.        ,  1.40938066, 21.16903073, 33.28810409,  8.9545    ])"
      ]
     },
     "execution_count": 585,
     "metadata": {},
     "output_type": "execute_result"
    }
   ],
   "source": [
    "np.max(frequencies[:,-1])/frequencies[:,-1]"
   ]
  },
  {
   "cell_type": "code",
   "execution_count": 472,
   "id": "a8d28e9d",
   "metadata": {},
   "outputs": [
    {
     "data": {
      "text/plain": [
       "array([[0.0000e+00, 1.7909e+04],\n",
       "       [1.0000e+00, 1.2707e+04],\n",
       "       [2.0000e+00, 8.4600e+02],\n",
       "       [3.0000e+00, 5.3800e+02],\n",
       "       [4.0000e+00, 2.0000e+03]])"
      ]
     },
     "execution_count": 472,
     "metadata": {},
     "output_type": "execute_result"
    }
   ],
   "source": [
    "frequencies"
   ]
  },
  {
   "cell_type": "code",
   "execution_count": 480,
   "id": "ed87964e",
   "metadata": {},
   "outputs": [
    {
     "name": "stdout",
     "output_type": "stream",
     "text": [
      "[[0.0000e+00 1.7909e+04]\n",
      " [1.0000e+00 1.2707e+04]\n",
      " [2.0000e+00 8.4600e+02]\n",
      " [3.0000e+00 5.3800e+02]\n",
      " [4.0000e+00 2.0000e+03]]\n"
     ]
    }
   ],
   "source": [
    "unique, counts = np.unique(d.x[:,0], return_counts=True)\n",
    "frequencies = np.asarray((unique, counts)).T\n",
    "print(frequencies)"
   ]
  },
  {
   "cell_type": "code",
   "execution_count": 498,
   "id": "ecc28986",
   "metadata": {},
   "outputs": [
    {
     "name": "stdout",
     "output_type": "stream",
     "text": [
      "[[   0 3153]\n",
      " [   1 1199]]\n"
     ]
    }
   ],
   "source": [
    "unique, counts = np.unique(res, return_counts=True)\n",
    "frequencies = np.asarray((unique, counts)).T\n",
    "print(frequencies)"
   ]
  },
  {
   "cell_type": "code",
   "execution_count": null,
   "id": "40e69b0c",
   "metadata": {},
   "outputs": [],
   "source": []
  },
  {
   "cell_type": "code",
   "execution_count": null,
   "id": "8c80f099",
   "metadata": {},
   "outputs": [],
   "source": []
  },
  {
   "cell_type": "code",
   "execution_count": null,
   "id": "48cb3ab1",
   "metadata": {},
   "outputs": [],
   "source": []
  },
  {
   "cell_type": "code",
   "execution_count": null,
   "id": "c9ff80ce",
   "metadata": {},
   "outputs": [],
   "source": []
  }
 ],
 "metadata": {
  "kernelspec": {
   "display_name": "Python 3 (ipykernel)",
   "language": "python",
   "name": "python3"
  },
  "language_info": {
   "codemirror_mode": {
    "name": "ipython",
    "version": 3
   },
   "file_extension": ".py",
   "mimetype": "text/x-python",
   "name": "python",
   "nbconvert_exporter": "python",
   "pygments_lexer": "ipython3",
   "version": "3.8.6"
  }
 },
 "nbformat": 4,
 "nbformat_minor": 5
}
